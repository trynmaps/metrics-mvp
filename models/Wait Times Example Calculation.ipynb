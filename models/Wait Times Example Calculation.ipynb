{
 "cells": [
  {
   "cell_type": "code",
   "execution_count": 10,
   "metadata": {},
   "outputs": [],
   "source": [
    "import json\n",
    "import requests\n",
    "from datetime import datetime, timedelta, timezone, time, date\n",
    "\n",
    "import pandas as pd\n",
    "import numpy as np\n",
    "\n",
    "\n",
    "# find the smallest nonnegative waiting time\n",
    "def absmin(series):\n",
    "    return series[series >= 0].min()\n",
    "\n",
    "\n",
    "# finds the wait times for data from a single day\n",
    "def get_daily_wait_times(df, start_time, end_time, group):\n",
    "    minute_range = [start_time + timedelta(minutes=i) for i in range(\n",
    "        (end_time - start_time).seconds//60)]\n",
    "    wait_times = pd.DataFrame(columns=[])\n",
    "\n",
    "    for minute in minute_range:\n",
    "        # TODO (jtanquil): we get this error, see if you can fix it\n",
    "        # A value is trying to be set on a copy of a slice from a DataFrame.\n",
    "        # Try using .loc[row_indexer,col_indexer] = value instead\n",
    "        # See the caveats in the documentation: http://pandas.pydata.org/pandas-docs/stable/indexing.html#indexing-view-versus-copy\n",
    "        #   df['WAIT'] = df['timestamp'].apply(lambda x: (x - minute).total_seconds())\n",
    "        df['WAIT'] = df['TIME'].apply(lambda x: (x - minute).total_seconds())\n",
    "        pivot = df[group + ['WAIT']].pivot_table(values = ['WAIT'], index = group, aggfunc = absmin)\n",
    "        pivot['TIME'] = minute\n",
    "        pivot = pivot.reset_index()\n",
    "        wait_times = wait_times.append(pivot, sort = True)\n",
    "\n",
    "    return wait_times\n",
    "\n",
    "\n",
    "def get_all_wait_times(df, timespan = (\"00:00\", \"23:59\"), group = ['ROUTE']): #probably restrict timespan to when buses are actually running\n",
    "    # process arrivals df\n",
    "    arrivals = df.copy(deep = True)\n",
    "    arrivals['DATE'] = arrivals['TIME'].apply(lambda x: pd.to_datetime(x))\n",
    "\n",
    "    dates = arrivals['DATE'].unique()\n",
    "    avg_over_pd = pd.DataFrame(columns = group + ['DATE', 'TIME', 'WAIT'])\n",
    "\n",
    "    for date in dates:\n",
    "        #print(f\"{datetime.now().strftime('%a %b %d %I:%M:%S %p')}: start processing {date}.\")\n",
    "        start_time = datetime.strptime(f\"{date.isoformat()} {timespan[0]} -0800\", \"%Y-%m-%d %H:%M %z\")\n",
    "        end_time   = datetime.strptime(f\"{date.isoformat()} {timespan[1]} -0800\", \"%Y-%m-%d %H:%M %z\")\n",
    "        daily_wait = get_daily_wait_times(arrivals[arrivals['DATE'] == date], start_time, end_time, group)\n",
    "        #print(f\"{datetime.now().strftime('%a %b %d %I:%M:%S %p')}: found waits for {date}.\")\n",
    "        #daily_wait = daily_wait.pivot_table(values = ['WAIT'], index = group).reset_index()\n",
    "        daily_wait['DATE'] = date\n",
    "        daily_wait['TIME'] = daily_wait['TIME'].apply(lambda x: x.time())\n",
    "        avg_over_pd = avg_over_pd.append(daily_wait, sort = True)\n",
    "\n",
    "    return avg_over_pd\n",
    "\n",
    "\n",
    "def quantiles(series):\n",
    "    return [np.percentile(series, i) for i in [5, 25, 50, 75, 95]]\n",
    "\n",
    "\n",
    "def get_summary_statistics(df, group):\n",
    "    waits = df.pivot_table(values = ['WAIT'], index = group, aggfunc = {'WAIT': [np.mean, np.std, quantiles]}).reset_index()\n",
    "    waits.columns = ['_'.join(col) if col[0] == 'WAIT' else ''.join(col) for col in waits.columns.values]\n",
    "    waits[[f\"{i}th percentile\" for i in [5, 25, 50, 75, 95]]] = waits['WAIT_quantiles'].apply(lambda x: pd.Series(x))\n",
    "    waits = waits.drop('WAIT_quantiles', axis = 1)\n",
    "    return waits\n",
    "\n",
    "\n",
    "def get_avg_wait_times(df, timespan = (\"05:00\", \"23:59\"), group = ['ROUTE']): # defaulting to muni operating hours\n",
    "    return get_summary_statistics(get_all_wait_times(df, timespan, group), group)\n",
    "\n",
    "def get_average_waiting_time(waits):\n",
    "    \"\"\"\n",
    "    Can be used to answer questions like, \"what's the average waiting time at\n",
    "    the 9th & Mission stop on the outbound 14 line from 9am-5pm in the last\n",
    "    \"\"\"\n",
    "    return waits['WAIT'].mean()/60"
   ]
  },
  {
   "cell_type": "code",
   "execution_count": 2,
   "metadata": {},
   "outputs": [],
   "source": [
    "data = r'../data/route_14_timetables_data.csv'\n",
    "\n",
    "df = pd.read_csv(data)"
   ]
  },
  {
   "cell_type": "code",
   "execution_count": 11,
   "metadata": {},
   "outputs": [
    {
     "ename": "AttributeError",
     "evalue": "'numpy.datetime64' object has no attribute 'isoformat'",
     "output_type": "error",
     "traceback": [
      "\u001b[1;31m---------------------------------------------------------------------------\u001b[0m",
      "\u001b[1;31mAttributeError\u001b[0m                            Traceback (most recent call last)",
      "\u001b[1;32m<ipython-input-11-d5f86300b6da>\u001b[0m in \u001b[0;36m<module>\u001b[1;34m\u001b[0m\n\u001b[1;32m----> 1\u001b[1;33m \u001b[0mget_avg_wait_times\u001b[0m\u001b[1;33m(\u001b[0m\u001b[0mdf\u001b[0m\u001b[1;33m)\u001b[0m\u001b[1;33m\u001b[0m\u001b[1;33m\u001b[0m\u001b[0m\n\u001b[0m",
      "\u001b[1;32m<ipython-input-10-131d4d1d428f>\u001b[0m in \u001b[0;36mget_avg_wait_times\u001b[1;34m(df, timespan, group)\u001b[0m\n\u001b[0;32m     68\u001b[0m \u001b[1;33m\u001b[0m\u001b[0m\n\u001b[0;32m     69\u001b[0m \u001b[1;32mdef\u001b[0m \u001b[0mget_avg_wait_times\u001b[0m\u001b[1;33m(\u001b[0m\u001b[0mdf\u001b[0m\u001b[1;33m,\u001b[0m \u001b[0mtimespan\u001b[0m \u001b[1;33m=\u001b[0m \u001b[1;33m(\u001b[0m\u001b[1;34m\"05:00\"\u001b[0m\u001b[1;33m,\u001b[0m \u001b[1;34m\"23:59\"\u001b[0m\u001b[1;33m)\u001b[0m\u001b[1;33m,\u001b[0m \u001b[0mgroup\u001b[0m \u001b[1;33m=\u001b[0m \u001b[1;33m[\u001b[0m\u001b[1;34m'ROUTE'\u001b[0m\u001b[1;33m]\u001b[0m\u001b[1;33m)\u001b[0m\u001b[1;33m:\u001b[0m \u001b[1;31m# defaulting to muni operating hours\u001b[0m\u001b[1;33m\u001b[0m\u001b[1;33m\u001b[0m\u001b[0m\n\u001b[1;32m---> 70\u001b[1;33m     \u001b[1;32mreturn\u001b[0m \u001b[0mget_summary_statistics\u001b[0m\u001b[1;33m(\u001b[0m\u001b[0mget_all_wait_times\u001b[0m\u001b[1;33m(\u001b[0m\u001b[0mdf\u001b[0m\u001b[1;33m,\u001b[0m \u001b[0mtimespan\u001b[0m\u001b[1;33m,\u001b[0m \u001b[0mgroup\u001b[0m\u001b[1;33m)\u001b[0m\u001b[1;33m,\u001b[0m \u001b[0mgroup\u001b[0m\u001b[1;33m)\u001b[0m\u001b[1;33m\u001b[0m\u001b[1;33m\u001b[0m\u001b[0m\n\u001b[0m\u001b[0;32m     71\u001b[0m \u001b[1;33m\u001b[0m\u001b[0m\n\u001b[0;32m     72\u001b[0m \u001b[1;32mdef\u001b[0m \u001b[0mget_average_waiting_time\u001b[0m\u001b[1;33m(\u001b[0m\u001b[0mwaits\u001b[0m\u001b[1;33m)\u001b[0m\u001b[1;33m:\u001b[0m\u001b[1;33m\u001b[0m\u001b[1;33m\u001b[0m\u001b[0m\n",
      "\u001b[1;32m<ipython-input-10-131d4d1d428f>\u001b[0m in \u001b[0;36mget_all_wait_times\u001b[1;34m(df, timespan, group)\u001b[0m\n\u001b[0;32m     43\u001b[0m     \u001b[1;32mfor\u001b[0m \u001b[0mdate\u001b[0m \u001b[1;32min\u001b[0m \u001b[0mdates\u001b[0m\u001b[1;33m:\u001b[0m\u001b[1;33m\u001b[0m\u001b[1;33m\u001b[0m\u001b[0m\n\u001b[0;32m     44\u001b[0m         \u001b[1;31m#print(f\"{datetime.now().strftime('%a %b %d %I:%M:%S %p')}: start processing {date}.\")\u001b[0m\u001b[1;33m\u001b[0m\u001b[1;33m\u001b[0m\u001b[1;33m\u001b[0m\u001b[0m\n\u001b[1;32m---> 45\u001b[1;33m         \u001b[0mstart_time\u001b[0m \u001b[1;33m=\u001b[0m \u001b[0mdatetime\u001b[0m\u001b[1;33m.\u001b[0m\u001b[0mstrptime\u001b[0m\u001b[1;33m(\u001b[0m\u001b[1;34mf\"{date.isoformat()} {timespan[0]} -0800\"\u001b[0m\u001b[1;33m,\u001b[0m \u001b[1;34m\"%Y-%m-%d %H:%M %z\"\u001b[0m\u001b[1;33m)\u001b[0m\u001b[1;33m\u001b[0m\u001b[1;33m\u001b[0m\u001b[0m\n\u001b[0m\u001b[0;32m     46\u001b[0m         \u001b[0mend_time\u001b[0m   \u001b[1;33m=\u001b[0m \u001b[0mdatetime\u001b[0m\u001b[1;33m.\u001b[0m\u001b[0mstrptime\u001b[0m\u001b[1;33m(\u001b[0m\u001b[1;34mf\"{date.isoformat()} {timespan[1]} -0800\"\u001b[0m\u001b[1;33m,\u001b[0m \u001b[1;34m\"%Y-%m-%d %H:%M %z\"\u001b[0m\u001b[1;33m)\u001b[0m\u001b[1;33m\u001b[0m\u001b[1;33m\u001b[0m\u001b[0m\n\u001b[0;32m     47\u001b[0m         \u001b[0mdaily_wait\u001b[0m \u001b[1;33m=\u001b[0m \u001b[0mget_daily_wait_times\u001b[0m\u001b[1;33m(\u001b[0m\u001b[0marrivals\u001b[0m\u001b[1;33m[\u001b[0m\u001b[0marrivals\u001b[0m\u001b[1;33m[\u001b[0m\u001b[1;34m'DATE'\u001b[0m\u001b[1;33m]\u001b[0m \u001b[1;33m==\u001b[0m \u001b[0mdate\u001b[0m\u001b[1;33m]\u001b[0m\u001b[1;33m,\u001b[0m \u001b[0mstart_time\u001b[0m\u001b[1;33m,\u001b[0m \u001b[0mend_time\u001b[0m\u001b[1;33m,\u001b[0m \u001b[0mgroup\u001b[0m\u001b[1;33m)\u001b[0m\u001b[1;33m\u001b[0m\u001b[1;33m\u001b[0m\u001b[0m\n",
      "\u001b[1;31mAttributeError\u001b[0m: 'numpy.datetime64' object has no attribute 'isoformat'"
     ]
    }
   ],
   "source": [
    "get_avg_wait_times(df)"
   ]
  },
  {
   "cell_type": "code",
   "execution_count": 5,
   "metadata": {},
   "outputs": [],
   "source": [
    "df.rename(columns = {'lines':'ROUTE'}, inplace = True)"
   ]
  },
  {
   "cell_type": "code",
   "execution_count": 9,
   "metadata": {},
   "outputs": [
    {
     "data": {
      "text/plain": [
       "Timestamp('2019-03-17 05:09:00')"
      ]
     },
     "execution_count": 9,
     "metadata": {},
     "output_type": "execute_result"
    }
   ],
   "source": [
    "pd.to_datetime(df['TIME'][0])"
   ]
  },
  {
   "cell_type": "code",
   "execution_count": null,
   "metadata": {},
   "outputs": [],
   "source": []
  }
 ],
 "metadata": {
  "kernelspec": {
   "display_name": "Python 3",
   "language": "python",
   "name": "python3"
  },
  "language_info": {
   "codemirror_mode": {
    "name": "ipython",
    "version": 3
   },
   "file_extension": ".py",
   "mimetype": "text/x-python",
   "name": "python",
   "nbconvert_exporter": "python",
   "pygments_lexer": "ipython3",
   "version": "3.7.1"
  }
 },
 "nbformat": 4,
 "nbformat_minor": 2
}
