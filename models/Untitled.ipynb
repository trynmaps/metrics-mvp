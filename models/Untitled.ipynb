{
 "cells": [
  {
   "cell_type": "code",
   "execution_count": 19,
   "metadata": {},
   "outputs": [],
   "source": [
    "from datetime import date, datetime, timedelta, time\n",
    "import os\n",
    "import pytz\n",
    "import json\n",
    "\n",
    "import pandas as pd\n",
    "import numpy as np"
   ]
  },
  {
   "cell_type": "code",
   "execution_count": 2,
   "metadata": {},
   "outputs": [
    {
     "name": "stdout",
     "output_type": "stream",
     "text": [
      "C:\\Users\\jose\\desktop\\metrics-mvp\\models\n"
     ]
    }
   ],
   "source": [
    "%cd desktop/metrics-mvp/models"
   ]
  },
  {
   "cell_type": "code",
   "execution_count": 35,
   "metadata": {},
   "outputs": [
    {
     "ename": "ImportError",
     "evalue": "cannot import name 'nextbus' from '__main__' (C:\\Users\\jose\\desktop\\metrics-mvp\\models\\arrival_history.py)",
     "output_type": "error",
     "traceback": [
      "\u001b[1;31m---------------------------------------------------------------------------\u001b[0m",
      "\u001b[1;31mImportError\u001b[0m                               Traceback (most recent call last)",
      "\u001b[1;32m~\\desktop\\metrics-mvp\\models\\arrival_history.py\u001b[0m in \u001b[0;36m<module>\u001b[1;34m\u001b[0m\n\u001b[0;32m      5\u001b[0m \u001b[1;32mimport\u001b[0m \u001b[0mrequests\u001b[0m\u001b[1;33m\u001b[0m\u001b[1;33m\u001b[0m\u001b[0m\n\u001b[0;32m      6\u001b[0m \u001b[1;32mimport\u001b[0m \u001b[0mpandas\u001b[0m \u001b[1;32mas\u001b[0m \u001b[0mpd\u001b[0m\u001b[1;33m\u001b[0m\u001b[1;33m\u001b[0m\u001b[0m\n\u001b[1;32m----> 7\u001b[1;33m \u001b[1;32mfrom\u001b[0m \u001b[1;33m.\u001b[0m \u001b[1;32mimport\u001b[0m \u001b[0mnextbus\u001b[0m\u001b[1;33m,\u001b[0m \u001b[0meclipses\u001b[0m\u001b[1;33m\u001b[0m\u001b[1;33m\u001b[0m\u001b[0m\n\u001b[0m\u001b[0;32m      8\u001b[0m \u001b[1;32mimport\u001b[0m \u001b[0mpytz\u001b[0m\u001b[1;33m\u001b[0m\u001b[1;33m\u001b[0m\u001b[0m\n\u001b[0;32m      9\u001b[0m \u001b[1;33m\u001b[0m\u001b[0m\n",
      "\u001b[1;31mImportError\u001b[0m: cannot import name 'nextbus' from '__main__' (C:\\Users\\jose\\desktop\\metrics-mvp\\models\\arrival_history.py)"
     ]
    }
   ],
   "source": [
    "%run arrival_history.py"
   ]
  },
  {
   "cell_type": "code",
   "execution_count": 5,
   "metadata": {},
   "outputs": [],
   "source": [
    "%run nextbus.py"
   ]
  },
  {
   "cell_type": "code",
   "execution_count": 6,
   "metadata": {},
   "outputs": [],
   "source": [
    "%run eclipses.py"
   ]
  },
  {
   "cell_type": "code",
   "execution_count": 7,
   "metadata": {},
   "outputs": [],
   "source": [
    "%run util.py"
   ]
  },
  {
   "cell_type": "code",
   "execution_count": 8,
   "metadata": {},
   "outputs": [],
   "source": [
    "test = get_by_date('sf-muni', '12', date(year = 2019, month = 2, day = 2))"
   ]
  },
  {
   "cell_type": "code",
   "execution_count": 9,
   "metadata": {},
   "outputs": [],
   "source": [
    "testdf = test.get_data_frame(stop_id = '4970')"
   ]
  },
  {
   "cell_type": "code",
   "execution_count": 10,
   "metadata": {},
   "outputs": [
    {
     "data": {
      "text/html": [
       "<div>\n",
       "<style scoped>\n",
       "    .dataframe tbody tr th:only-of-type {\n",
       "        vertical-align: middle;\n",
       "    }\n",
       "\n",
       "    .dataframe tbody tr th {\n",
       "        vertical-align: top;\n",
       "    }\n",
       "\n",
       "    .dataframe thead th {\n",
       "        text-align: right;\n",
       "    }\n",
       "</style>\n",
       "<table border=\"1\" class=\"dataframe\">\n",
       "  <thead>\n",
       "    <tr style=\"text-align: right;\">\n",
       "      <th></th>\n",
       "      <th>VID</th>\n",
       "      <th>TIME</th>\n",
       "      <th>SID</th>\n",
       "      <th>DID</th>\n",
       "    </tr>\n",
       "  </thead>\n",
       "  <tbody>\n",
       "    <tr>\n",
       "      <th>0</th>\n",
       "      <td>8857</td>\n",
       "      <td>1549117320</td>\n",
       "      <td>4970</td>\n",
       "      <td>12___O_F00</td>\n",
       "    </tr>\n",
       "    <tr>\n",
       "      <th>1</th>\n",
       "      <td>8171</td>\n",
       "      <td>1549118536</td>\n",
       "      <td>4970</td>\n",
       "      <td>12___O_F00</td>\n",
       "    </tr>\n",
       "    <tr>\n",
       "      <th>2</th>\n",
       "      <td>8629</td>\n",
       "      <td>1549119647</td>\n",
       "      <td>4970</td>\n",
       "      <td>12___O_F00</td>\n",
       "    </tr>\n",
       "    <tr>\n",
       "      <th>3</th>\n",
       "      <td>8443</td>\n",
       "      <td>1549120908</td>\n",
       "      <td>4970</td>\n",
       "      <td>12___O_F00</td>\n",
       "    </tr>\n",
       "    <tr>\n",
       "      <th>4</th>\n",
       "      <td>8867</td>\n",
       "      <td>1549122109</td>\n",
       "      <td>4970</td>\n",
       "      <td>12___O_F00</td>\n",
       "    </tr>\n",
       "  </tbody>\n",
       "</table>\n",
       "</div>"
      ],
      "text/plain": [
       "    VID        TIME   SID         DID\n",
       "0  8857  1549117320  4970  12___O_F00\n",
       "1  8171  1549118536  4970  12___O_F00\n",
       "2  8629  1549119647  4970  12___O_F00\n",
       "3  8443  1549120908  4970  12___O_F00\n",
       "4  8867  1549122109  4970  12___O_F00"
      ]
     },
     "execution_count": 10,
     "metadata": {},
     "output_type": "execute_result"
    }
   ],
   "source": [
    "testdf.head()"
   ]
  },
  {
   "cell_type": "code",
   "execution_count": 11,
   "metadata": {},
   "outputs": [],
   "source": [
    "# assumes we have a df from one route, one stop, one direction\n",
    "def get_wait_times(df: pd.DataFrame, date: str, start_time: str, end_time: str):\n",
    "    # for each arrival time, rounding down to the nearest minute gives us the\n",
    "    # corresponding minute for which that arrival is first arrival\n",
    "    waits = df['TIME'].copy(deep = True)\n",
    "    waits = pd.DataFrame({\"ARRIVAL\" : waits,\n",
    "                          \"TIME_FLOOR\" : waits - (waits % 60)})\n",
    "    \n",
    "    # get the minute range in timestamp form\n",
    "    start_timestamp = datetime.strptime(f\"{date} {start_time} -0800\", \"%Y-%m-%d %H:%M %z\").timestamp()\n",
    "    end_timestamp = datetime.strptime(f\"{date} {start_time} -0800\", \"%Y-%m-%d %H:%M %z\").timestamp()\n",
    "    # account for end_time being 12-3 AM of the next day\n",
    "    if end_time[0:2] in [\"00\", \"01\", \"02\", \"03\"]:\n",
    "        end_timestamp += 86400\n",
    "        \n",
    "    minutes_range = [start_timestamp + (60 * i) for i in range(int((end_timestamp - start_timestamp)/60))]\n",
    "    \n",
    "    # the remaining first arrivals can be obtained by joining the existing waits to a df\n",
    "    # containing the rest of the timestamps and backfilling\n",
    "    all_waits = pd.DataFrame({'TIME' : minutes_range}).join(waits.set_index('TIME_FLOOR'), on = 'TIME', how = 'outer')\n",
    "    all_waits['ARRIVAL'] = all_waits['ARRIVAL'].fillna(method = 'bfill')\n",
    "    \n",
    "    # return the wait times in seconds\n",
    "    return all_waits['ARRIVAL'] - all_waits['TIME']"
   ]
  },
  {
   "cell_type": "code",
   "execution_count": 12,
   "metadata": {},
   "outputs": [],
   "source": [
    "waits = get_wait_times(testdf, \"2019-02-02\", \"03:00\", \"02:59\")"
   ]
  },
  {
   "cell_type": "code",
   "execution_count": 13,
   "metadata": {},
   "outputs": [
    {
     "data": {
      "text/plain": [
       "28.02419268748332"
      ]
     },
     "execution_count": 13,
     "metadata": {},
     "output_type": "execute_result"
    }
   ],
   "source": [
    "waits.mean()/60"
   ]
  },
  {
   "cell_type": "code",
   "execution_count": 18,
   "metadata": {},
   "outputs": [],
   "source": [
    "def get_trip_times(dates: list, agency: str, tz: pytz.timezone, start_time_str: str, end_time_str: str, \n",
    "                   route_id: str, s1: str, s2: str):\n",
    "    completed_trips_arr = []\n",
    "\n",
    "    for d in dates:\n",
    "        date_str = str(d)\n",
    "\n",
    "        history = get_by_date(agency, route_id, d)\n",
    "\n",
    "        s1_df = history.get_data_frame(stop_id=s1, tz=tz, start_time_str=start_time_str, end_time_str=end_time_str)\n",
    "\n",
    "        if s1_df.empty:\n",
    "            print(f\"no arrival times found for stop {s1} on {date_str}\")\n",
    "            continue\n",
    "\n",
    "        s1_df = s1_df.sort_values('TIME', axis=0)\n",
    "\n",
    "        # in case we don't see the vehicle arrive at s2 in the current run,\n",
    "        # look at the next time the same vehicle arrives back at s1, only look at s2 arrivals before that time\n",
    "        def find_dest_arrival_time(row):\n",
    "            next_return_time = history.find_next_arrival_time(s1, row.VID, row.TIME)\n",
    "            return history.find_next_arrival_time(s2, row.VID, row.TIME, next_return_time)\n",
    "\n",
    "        s1_df['dest_arrival_time'] = s1_df.apply(find_dest_arrival_time, axis=1)\n",
    "        s1_df['trip_min'] = (s1_df.dest_arrival_time - s1_df.TIME)/60\n",
    "        s1_df['dest_arrival_time_str'] = s1_df['dest_arrival_time'].apply(lambda timestamp: datetime.fromtimestamp(timestamp, tz).time() if not np.isnan(timestamp) else None)\n",
    "\n",
    "        for index, row in s1_df.iterrows():\n",
    "            print(f\"s1_t={row.DATE_STR} {row.TIME_STR} ({row.TIME}) s2_t={row.dest_arrival_time_str} ({row.dest_arrival_time}) vid:{row.VID} trip_minutes:{round(row.trip_min, 1)}\")\n",
    "\n",
    "        completed_trips_arr.append(s1_df.trip_min[s1_df.trip_min.notnull()])\n",
    "        \n",
    "    return pd.concat(completed_trips_arr)"
   ]
  },
  {
   "cell_type": "code",
   "execution_count": 19,
   "metadata": {},
   "outputs": [
    {
     "name": "stdout",
     "output_type": "stream",
     "text": [
      "s1_t=2019-02-02 06:22:00 (1549117320) s2_t=06:25:00 (1549117500) vid:8857 trip_minutes:3.0\n",
      "s1_t=2019-02-02 06:42:16 (1549118536) s2_t=06:45:16 (1549118716) vid:8171 trip_minutes:3.0\n",
      "s1_t=2019-02-02 07:00:47 (1549119647) s2_t=07:02:47 (1549119767) vid:8629 trip_minutes:2.0\n",
      "s1_t=2019-02-02 07:21:48 (1549120908) s2_t=07:24:48 (1549121088) vid:8443 trip_minutes:3.0\n",
      "s1_t=2019-02-02 07:41:49 (1549122109) s2_t=07:44:49 (1549122289) vid:8867 trip_minutes:3.0\n",
      "s1_t=2019-02-02 08:01:05 (1549123265) s2_t=08:04:05 (1549123445) vid:8857 trip_minutes:3.0\n",
      "s1_t=2019-02-02 08:25:36 (1549124736) s2_t=08:28:51 (1549124931) vid:8171 trip_minutes:3.2\n",
      "s1_t=2019-02-02 08:40:52 (1549125652) s2_t=08:43:37 (1549125817) vid:8629 trip_minutes:2.8\n",
      "s1_t=2019-02-02 09:08:38 (1549127318) s2_t=09:11:38 (1549127498) vid:8652 trip_minutes:3.0\n",
      "s1_t=2019-02-02 09:31:39 (1549128699) s2_t=09:34:40 (1549128880) vid:8443 trip_minutes:3.0\n",
      "s1_t=2019-02-02 09:44:55 (1549129495) s2_t=09:46:55 (1549129615) vid:8867 trip_minutes:2.0\n",
      "s1_t=2019-02-02 10:16:27 (1549131387) s2_t=10:18:27 (1549131507) vid:8857 trip_minutes:2.0\n",
      "s1_t=2019-02-02 10:26:27 (1549131987) s2_t=10:31:27 (1549132287) vid:8171 trip_minutes:5.0\n",
      "s1_t=2019-02-02 10:44:43 (1549133083) s2_t=10:46:43 (1549133203) vid:8629 trip_minutes:2.0\n",
      "s1_t=2019-02-02 11:11:29 (1549134689) s2_t=11:14:29 (1549134869) vid:8652 trip_minutes:3.0\n",
      "s1_t=2019-02-02 11:28:15 (1549135695) s2_t=11:32:30 (1549135950) vid:8443 trip_minutes:4.2\n",
      "s1_t=2019-02-02 11:46:16 (1549136776) s2_t=11:49:16 (1549136956) vid:8867 trip_minutes:3.0\n",
      "s1_t=2019-02-02 12:11:47 (1549138307) s2_t=12:15:47 (1549138547) vid:8857 trip_minutes:4.0\n",
      "s1_t=2019-02-02 12:26:48 (1549139208) s2_t=12:30:03 (1549139403) vid:8171 trip_minutes:3.2\n",
      "s1_t=2019-02-02 12:44:49 (1549140289) s2_t=12:46:49 (1549140409) vid:8629 trip_minutes:2.0\n",
      "s1_t=2019-02-02 13:14:05 (1549142045) s2_t=13:17:20 (1549142240) vid:8652 trip_minutes:3.2\n",
      "s1_t=2019-02-02 13:37:51 (1549143471) s2_t=13:40:51 (1549143651) vid:8443 trip_minutes:3.0\n",
      "s1_t=2019-02-02 13:50:07 (1549144207) s2_t=13:54:07 (1549144447) vid:8867 trip_minutes:4.0\n",
      "s1_t=2019-02-02 14:05:08 (1549145108) s2_t=14:07:53 (1549145273) vid:8857 trip_minutes:2.8\n",
      "s1_t=2019-02-02 14:18:53 (1549145933) s2_t=14:21:53 (1549146113) vid:8171 trip_minutes:3.0\n",
      "s1_t=2019-02-02 14:43:39 (1549147419) s2_t=14:48:25 (1549147705) vid:8629 trip_minutes:4.8\n",
      "s1_t=2019-02-02 15:27:12 (1549150032) s2_t=15:30:12 (1549150212) vid:8443 trip_minutes:3.0\n",
      "s1_t=2019-02-02 15:45:12 (1549151112) s2_t=15:48:13 (1549151293) vid:8867 trip_minutes:3.0\n",
      "s1_t=2019-02-02 16:13:59 (1549152839) s2_t=16:16:59 (1549153019) vid:8857 trip_minutes:3.0\n",
      "s1_t=2019-02-02 16:48:16 (1549154896) s2_t=16:51:31 (1549155091) vid:8629 trip_minutes:3.2\n",
      "s1_t=2019-02-02 17:09:17 (1549156157) s2_t=17:13:17 (1549156397) vid:8652 trip_minutes:4.0\n",
      "s1_t=2019-02-02 17:28:33 (1549157313) s2_t=17:31:48 (1549157508) vid:8443 trip_minutes:3.2\n",
      "s1_t=2019-02-02 17:58:49 (1549159129) s2_t=18:01:49 (1549159309) vid:8867 trip_minutes:3.0\n",
      "s1_t=2019-02-02 18:26:36 (1549160796) s2_t=18:29:51 (1549160991) vid:8171 trip_minutes:3.2\n",
      "s1_t=2019-02-02 19:05:37 (1549163137) s2_t=19:10:23 (1549163423) vid:8629 trip_minutes:4.8\n",
      "s1_t=2019-02-02 19:13:08 (1549163588) s2_t=19:16:08 (1549163768) vid:8652 trip_minutes:3.0\n",
      "s1_t=2019-02-02 19:24:53 (1549164293) s2_t=19:28:54 (1549164534) vid:8443 trip_minutes:4.0\n",
      "s1_t=2019-02-02 20:01:55 (1549166515) s2_t=20:04:40 (1549166680) vid:8867 trip_minutes:2.8\n",
      "s1_t=2019-02-02 20:21:41 (1549167701) s2_t=20:24:26 (1549167866) vid:8857 trip_minutes:2.8\n",
      "s1_t=2019-02-02 20:55:58 (1549169758) s2_t=20:57:58 (1549169878) vid:8652 trip_minutes:2.0\n",
      "s1_t=2019-02-02 21:22:29 (1549171349) s2_t=21:24:14 (1549171454) vid:8443 trip_minutes:1.8\n",
      "s1_t=2019-02-02 22:03:16 (1549173796) s2_t=22:05:31 (1549173931) vid:8867 trip_minutes:2.2\n",
      "s1_t=2019-02-02 22:23:32 (1549175012) s2_t=22:25:32 (1549175132) vid:8857 trip_minutes:2.0\n",
      "s1_t=2019-02-02 23:17:35 (1549178255) s2_t=23:19:50 (1549178390) vid:8443 trip_minutes:2.2\n",
      "s1_t=2019-02-02 23:48:06 (1549180086) s2_t=23:51:07 (1549180267) vid:8867 trip_minutes:3.0\n"
     ]
    },
    {
     "data": {
      "text/plain": [
       "0     3.000000\n",
       "1     3.000000\n",
       "2     2.000000\n",
       "3     3.000000\n",
       "4     3.000000\n",
       "5     3.000000\n",
       "6     3.250000\n",
       "7     2.750000\n",
       "8     3.000000\n",
       "9     3.016667\n",
       "10    2.000000\n",
       "11    2.000000\n",
       "12    5.000000\n",
       "13    2.000000\n",
       "14    3.000000\n",
       "15    4.250000\n",
       "16    3.000000\n",
       "17    4.000000\n",
       "18    3.250000\n",
       "19    2.000000\n",
       "20    3.250000\n",
       "21    3.000000\n",
       "22    4.000000\n",
       "23    2.750000\n",
       "24    3.000000\n",
       "25    4.766667\n",
       "26    3.000000\n",
       "27    3.016667\n",
       "28    3.000000\n",
       "29    3.250000\n",
       "30    4.000000\n",
       "31    3.250000\n",
       "32    3.000000\n",
       "33    3.250000\n",
       "34    4.766667\n",
       "35    3.000000\n",
       "36    4.016667\n",
       "37    2.750000\n",
       "38    2.750000\n",
       "39    2.000000\n",
       "40    1.750000\n",
       "41    2.250000\n",
       "42    2.000000\n",
       "43    2.250000\n",
       "44    3.016667\n",
       "Name: trip_min, dtype: float64"
      ]
     },
     "execution_count": 19,
     "metadata": {},
     "output_type": "execute_result"
    }
   ],
   "source": [
    "get_trip_times(get_dates_in_range(\"2019-02-02\", \"2019-02-02\"), \"sf-muni\", pytz.timezone(\"US/Pacific\"), \"03:00\", \"23:59\", \"12\", \"4970\", \"4973\")"
   ]
  },
  {
   "cell_type": "code",
   "execution_count": 4,
   "metadata": {},
   "outputs": [],
   "source": [
    "test = pd.read_csv(\"../data/timetables/route_12_timetables_data.csv\")"
   ]
  },
  {
   "cell_type": "code",
   "execution_count": 5,
   "metadata": {},
   "outputs": [
    {
     "data": {
      "text/html": [
       "<div>\n",
       "<style scoped>\n",
       "    .dataframe tbody tr th:only-of-type {\n",
       "        vertical-align: middle;\n",
       "    }\n",
       "\n",
       "    .dataframe tbody tr th {\n",
       "        vertical-align: top;\n",
       "    }\n",
       "\n",
       "    .dataframe thead th {\n",
       "        text-align: right;\n",
       "    }\n",
       "</style>\n",
       "<table border=\"1\" class=\"dataframe\">\n",
       "  <thead>\n",
       "    <tr style=\"text-align: right;\">\n",
       "      <th></th>\n",
       "      <th>ROUTE</th>\n",
       "      <th>direction</th>\n",
       "      <th>timetable</th>\n",
       "      <th>trip_id</th>\n",
       "      <th>stop_id</th>\n",
       "      <th>TIME</th>\n",
       "    </tr>\n",
       "  </thead>\n",
       "  <tbody>\n",
       "    <tr>\n",
       "      <th>0</th>\n",
       "      <td>12</td>\n",
       "      <td>IB</td>\n",
       "      <td>Saturday</td>\n",
       "      <td>8528519</td>\n",
       "      <td>13476</td>\n",
       "      <td>2019-03-21 05:30:00</td>\n",
       "    </tr>\n",
       "    <tr>\n",
       "      <th>1</th>\n",
       "      <td>12</td>\n",
       "      <td>IB</td>\n",
       "      <td>Saturday</td>\n",
       "      <td>8528519</td>\n",
       "      <td>14677</td>\n",
       "      <td>2019-03-21 05:36:00</td>\n",
       "    </tr>\n",
       "    <tr>\n",
       "      <th>2</th>\n",
       "      <td>12</td>\n",
       "      <td>IB</td>\n",
       "      <td>Saturday</td>\n",
       "      <td>8528519</td>\n",
       "      <td>14664</td>\n",
       "      <td>2019-03-21 05:42:00</td>\n",
       "    </tr>\n",
       "    <tr>\n",
       "      <th>3</th>\n",
       "      <td>12</td>\n",
       "      <td>IB</td>\n",
       "      <td>Saturday</td>\n",
       "      <td>8528519</td>\n",
       "      <td>14658</td>\n",
       "      <td>2019-03-21 05:47:00</td>\n",
       "    </tr>\n",
       "    <tr>\n",
       "      <th>4</th>\n",
       "      <td>12</td>\n",
       "      <td>IB</td>\n",
       "      <td>Saturday</td>\n",
       "      <td>8528519</td>\n",
       "      <td>17549</td>\n",
       "      <td>2019-03-21 05:49:00</td>\n",
       "    </tr>\n",
       "  </tbody>\n",
       "</table>\n",
       "</div>"
      ],
      "text/plain": [
       "   ROUTE direction timetable  trip_id  stop_id                 TIME\n",
       "0     12        IB  Saturday  8528519    13476  2019-03-21 05:30:00\n",
       "1     12        IB  Saturday  8528519    14677  2019-03-21 05:36:00\n",
       "2     12        IB  Saturday  8528519    14664  2019-03-21 05:42:00\n",
       "3     12        IB  Saturday  8528519    14658  2019-03-21 05:47:00\n",
       "4     12        IB  Saturday  8528519    17549  2019-03-21 05:49:00"
      ]
     },
     "execution_count": 5,
     "metadata": {},
     "output_type": "execute_result"
    }
   ],
   "source": [
    "test.head()"
   ]
  },
  {
   "cell_type": "code",
   "execution_count": 6,
   "metadata": {},
   "outputs": [
    {
     "data": {
      "text/plain": [
       "array(['Saturday', 'Sunday', 'Weekday'], dtype=object)"
      ]
     },
     "execution_count": 6,
     "metadata": {},
     "output_type": "execute_result"
    }
   ],
   "source": [
    "test['timetable'].unique()"
   ]
  },
  {
   "cell_type": "code",
   "execution_count": 7,
   "metadata": {},
   "outputs": [],
   "source": [
    "stop_ids = list(test['stop_id'].unique())"
   ]
  },
  {
   "cell_type": "code",
   "execution_count": 8,
   "metadata": {},
   "outputs": [],
   "source": [
    "def load_json(filename):\n",
    "    with open(filename, \"r\") as f:\n",
    "        return json.load(f)"
   ]
  },
  {
   "cell_type": "code",
   "execution_count": 10,
   "metadata": {},
   "outputs": [],
   "source": [
    "def get_timetable(route_id: str, stop_id: int, d: date):\n",
    "    path = f\"../data/timetables/route_{route_id}_timetables_data.csv\"\n",
    "    df = pd.read_csv(path)\n",
    "    df['TIME'] = df['TIME'].apply(lambda x: datetime.strptime(f\"{x} -0800\", \"%Y-%m-%d %H:%M:%S %z\"))\n",
    "    day = d.weekday()\n",
    "    timetable_type = \"Weekday\" if day < 5 else (\"Saturday\" if day == 5 else \"Sunday\")\n",
    "    \n",
    "    return df[(df['stop_id'] == stop_id) & (df['timetable'] == timetable_type)]"
   ]
  },
  {
   "cell_type": "code",
   "execution_count": 11,
   "metadata": {},
   "outputs": [
    {
     "data": {
      "text/plain": [
       "[13476,\n",
       " 14677,\n",
       " 14664,\n",
       " 14658,\n",
       " 17549,\n",
       " 16333,\n",
       " 15852,\n",
       " 17941,\n",
       " 15853,\n",
       " 16327,\n",
       " 13011,\n",
       " 14968,\n",
       " 14665,\n",
       " 17312]"
      ]
     },
     "execution_count": 11,
     "metadata": {},
     "output_type": "execute_result"
    }
   ],
   "source": [
    "stop_ids"
   ]
  },
  {
   "cell_type": "code",
   "execution_count": 12,
   "metadata": {},
   "outputs": [],
   "source": [
    "timetables = []\n",
    "\n",
    "for id in stop_ids:\n",
    "    timetables.append(get_timetable(\"12\", id, date(2019, 2, 2)))"
   ]
  },
  {
   "cell_type": "code",
   "execution_count": 13,
   "metadata": {},
   "outputs": [],
   "source": [
    "test_timetable = get_timetable(\"12\", 13476, date(2019, 2, 2))"
   ]
  },
  {
   "cell_type": "code",
   "execution_count": 14,
   "metadata": {},
   "outputs": [
    {
     "data": {
      "text/html": [
       "<div>\n",
       "<style scoped>\n",
       "    .dataframe tbody tr th:only-of-type {\n",
       "        vertical-align: middle;\n",
       "    }\n",
       "\n",
       "    .dataframe tbody tr th {\n",
       "        vertical-align: top;\n",
       "    }\n",
       "\n",
       "    .dataframe thead th {\n",
       "        text-align: right;\n",
       "    }\n",
       "</style>\n",
       "<table border=\"1\" class=\"dataframe\">\n",
       "  <thead>\n",
       "    <tr style=\"text-align: right;\">\n",
       "      <th></th>\n",
       "      <th>ROUTE</th>\n",
       "      <th>direction</th>\n",
       "      <th>timetable</th>\n",
       "      <th>trip_id</th>\n",
       "      <th>stop_id</th>\n",
       "      <th>TIME</th>\n",
       "    </tr>\n",
       "  </thead>\n",
       "  <tbody>\n",
       "    <tr>\n",
       "      <th>0</th>\n",
       "      <td>12</td>\n",
       "      <td>IB</td>\n",
       "      <td>Saturday</td>\n",
       "      <td>8528519</td>\n",
       "      <td>13476</td>\n",
       "      <td>2019-03-21 05:30:00-08:00</td>\n",
       "    </tr>\n",
       "    <tr>\n",
       "      <th>8</th>\n",
       "      <td>12</td>\n",
       "      <td>IB</td>\n",
       "      <td>Saturday</td>\n",
       "      <td>8528520</td>\n",
       "      <td>13476</td>\n",
       "      <td>2019-03-21 05:50:00-08:00</td>\n",
       "    </tr>\n",
       "    <tr>\n",
       "      <th>16</th>\n",
       "      <td>12</td>\n",
       "      <td>IB</td>\n",
       "      <td>Saturday</td>\n",
       "      <td>8528521</td>\n",
       "      <td>13476</td>\n",
       "      <td>2019-03-21 06:10:00-08:00</td>\n",
       "    </tr>\n",
       "    <tr>\n",
       "      <th>24</th>\n",
       "      <td>12</td>\n",
       "      <td>IB</td>\n",
       "      <td>Saturday</td>\n",
       "      <td>8528522</td>\n",
       "      <td>13476</td>\n",
       "      <td>2019-03-21 06:27:00-08:00</td>\n",
       "    </tr>\n",
       "    <tr>\n",
       "      <th>32</th>\n",
       "      <td>12</td>\n",
       "      <td>IB</td>\n",
       "      <td>Saturday</td>\n",
       "      <td>8528523</td>\n",
       "      <td>13476</td>\n",
       "      <td>2019-03-21 06:47:00-08:00</td>\n",
       "    </tr>\n",
       "  </tbody>\n",
       "</table>\n",
       "</div>"
      ],
      "text/plain": [
       "    ROUTE direction timetable  trip_id  stop_id                      TIME\n",
       "0      12        IB  Saturday  8528519    13476 2019-03-21 05:30:00-08:00\n",
       "8      12        IB  Saturday  8528520    13476 2019-03-21 05:50:00-08:00\n",
       "16     12        IB  Saturday  8528521    13476 2019-03-21 06:10:00-08:00\n",
       "24     12        IB  Saturday  8528522    13476 2019-03-21 06:27:00-08:00\n",
       "32     12        IB  Saturday  8528523    13476 2019-03-21 06:47:00-08:00"
      ]
     },
     "execution_count": 14,
     "metadata": {},
     "output_type": "execute_result"
    }
   ],
   "source": [
    "test_timetable.head()"
   ]
  },
  {
   "cell_type": "code",
   "execution_count": 15,
   "metadata": {},
   "outputs": [
    {
     "name": "stdout",
     "output_type": "stream",
     "text": [
      "<class 'pandas.core.frame.DataFrame'>\n",
      "Int64Index: 100 entries, 0 to 1727\n",
      "Data columns (total 6 columns):\n",
      "ROUTE        100 non-null int64\n",
      "direction    100 non-null object\n",
      "timetable    100 non-null object\n",
      "trip_id      100 non-null int64\n",
      "stop_id      100 non-null int64\n",
      "TIME         100 non-null datetime64[ns, UTC-08:00]\n",
      "dtypes: datetime64[ns, UTC-08:00](1), int64(3), object(2)\n",
      "memory usage: 5.5+ KB\n"
     ]
    }
   ],
   "source": [
    "test_timetable.info()"
   ]
  },
  {
   "cell_type": "code",
   "execution_count": 20,
   "metadata": {},
   "outputs": [
    {
     "data": {
      "text/plain": [
       "True"
      ]
     },
     "execution_count": 20,
     "metadata": {},
     "output_type": "execute_result"
    }
   ],
   "source": [
    "test_timetable['TIME'].max().time() > time(23, 35)"
   ]
  },
  {
   "cell_type": "code",
   "execution_count": null,
   "metadata": {},
   "outputs": [],
   "source": []
  }
 ],
 "metadata": {
  "kernelspec": {
   "display_name": "Python 3",
   "language": "python",
   "name": "python3"
  },
  "language_info": {
   "codemirror_mode": {
    "name": "ipython",
    "version": 3
   },
   "file_extension": ".py",
   "mimetype": "text/x-python",
   "name": "python",
   "nbconvert_exporter": "python",
   "pygments_lexer": "ipython3",
   "version": "3.7.1"
  }
 },
 "nbformat": 4,
 "nbformat_minor": 2
}
