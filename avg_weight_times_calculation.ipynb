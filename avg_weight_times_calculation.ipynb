{
 "cells": [
  {
   "cell_type": "markdown",
   "metadata": {},
   "source": [
    "# Average Wait Time\n",
    "### Stochastic Calculation\n",
    "What is the average wait time that a passenger would have to wait given:\n",
    "1. Bus route\n",
    "2. Inbound vs. Outbound\n",
    "3. Timetable (Saturdays, Sundays, Weekdays)\n",
    "4. A time period\n",
    "5. Random arrival to the bus stop"
   ]
  },
  {
   "cell_type": "code",
   "execution_count": null,
   "metadata": {},
   "outputs": [],
   "source": [
    "import datetime, numpy as np, pandas as pd"
   ]
  },
  {
   "cell_type": "markdown",
   "metadata": {},
   "source": [
    "In this toy example, let's assume the following times represent minutes in a given hour. Thus in this example, we are looking at let's say 5 to 6 PM. There are three buses arriving at 5:20, 5:40, and 5:59 respectively. What is the average time that a passenger, arriving at random, would have to wait?"
   ]
  },
  {
   "cell_type": "code",
   "execution_count": 68,
   "metadata": {},
   "outputs": [
    {
     "data": {
      "text/plain": [
       "22.950819672131146"
      ]
     },
     "execution_count": 68,
     "metadata": {},
     "output_type": "execute_result"
    }
   ],
   "source": [
    "# Create the fake array\n",
    "toy_example = [20, 40, 59]\n",
    "\n",
    "# Instantiate i at 0 for the first element of the array of arrival minutes and the ranges as an empty array\n",
    "ranges = []\n",
    "i = 0\n",
    "\n",
    "# \n",
    "while i < len(toy_example):\n",
    "    range = np.arange(toy_example[i],-1,-1)\n",
    "    ranges.append(range)\n",
    "    \n",
    "    i += 1\n",
    "\n",
    "flattened_ranges = np.concatenate( ranges, axis=0 )\n",
    "\n",
    "sum(flattened_ranges) / len(flattened_ranges)"
   ]
  },
  {
   "cell_type": "markdown",
   "metadata": {},
   "source": [
    "For this single hour for this toy bus route, if buses come at hh:20:00, hh:40:00, and hh:59:00, the average wait time given a random arrival time at the stop in question is 22.95 minutes."
   ]
  }
 ],
 "metadata": {
  "kernelspec": {
   "display_name": "Python 3",
   "language": "python",
   "name": "python3"
  },
  "language_info": {
   "codemirror_mode": {
    "name": "ipython",
    "version": 3
   },
   "file_extension": ".py",
   "mimetype": "text/x-python",
   "name": "python",
   "nbconvert_exporter": "python",
   "pygments_lexer": "ipython3",
   "version": "3.7.1"
  }
 },
 "nbformat": 4,
 "nbformat_minor": 2
}
