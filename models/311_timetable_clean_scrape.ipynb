{
 "cells": [
  {
   "cell_type": "code",
   "execution_count": 1,
   "metadata": {},
   "outputs": [],
   "source": [
    "# Import the packages needed\n",
    "import numpy as np, pandas as pd\n",
    "import urllib\n",
    "import json"
   ]
  },
  {
   "cell_type": "code",
   "execution_count": 2,
   "metadata": {},
   "outputs": [],
   "source": [
    "# Load the data as a JSON dict using the API\n",
    "\n",
    "line_to_scrape = '14'\n",
    "\n",
    "with urllib.request.urlopen(\"http://api.511.org/transit/timetable?api_key=f5c9c70c-3e13-4e76-8481-d3ecc866ef3f&operator_id=SF&line_id=\"+line_to_scrape+\"&format=json\") as url:\n",
    "    data = json.load(url)"
   ]
  },
  {
   "cell_type": "code",
   "execution_count": 3,
   "metadata": {},
   "outputs": [
    {
     "data": {
      "text/plain": [
       "15544"
      ]
     },
     "execution_count": 3,
     "metadata": {},
     "output_type": "execute_result"
    }
   ],
   "source": [
    "# Example of the data architecture:\n",
    "# This is a single stop ID (Mission St & 11th St)\n",
    "# View the HTML time table at https://511.org/transit/schedules-agency-info/agency/SF/schedules/route/14 to compare\n",
    "# Stop IDs are located at:\n",
    "int(data['Content']['TimetableFrame'][1]['vehicleJourneys']['ServiceJourney'][0]['calls']['Call'][0]['ScheduledStopPointRef'].get('ref'))"
   ]
  },
  {
   "cell_type": "code",
   "execution_count": 4,
   "metadata": {},
   "outputs": [
    {
     "data": {
      "text/plain": [
       "{'Call': [{'order': '1',\n",
       "   'ScheduledStopPointRef': {'ref': '15544'},\n",
       "   'Arrival': {'Time': '05:09:00', 'DaysOffset': '0'},\n",
       "   'Departure': {'Time': '05:09:00', 'DaysOffset': '0'}},\n",
       "  {'order': '2',\n",
       "   'ScheduledStopPointRef': {'ref': '15535'},\n",
       "   'Arrival': {'Time': '05:14:00', 'DaysOffset': '0'},\n",
       "   'Departure': {'Time': '05:14:00', 'DaysOffset': '0'}},\n",
       "  {'order': '3',\n",
       "   'ScheduledStopPointRef': {'ref': '16498'},\n",
       "   'Arrival': {'Time': '05:21:00', 'DaysOffset': '0'},\n",
       "   'Departure': {'Time': '05:21:00', 'DaysOffset': '0'}}]}"
      ]
     },
     "execution_count": 4,
     "metadata": {},
     "output_type": "execute_result"
    }
   ],
   "source": [
    "# This is one set of bus trips for a given service journey, in this case item 1 of the first time table\n",
    "data['Content']['TimetableFrame'][0]['vehicleJourneys']['ServiceJourney'][0]['calls']"
   ]
  },
  {
   "cell_type": "code",
   "execution_count": 5,
   "metadata": {},
   "outputs": [],
   "source": [
    "# Loops through each time table and for each trip id, prints the stop id and arrival time\n",
    "\n",
    "# First I will make a dataframe with all of the time tables and then think about splitting them by time table or just reassign the vars for that later\n",
    "\n",
    "lines, directions, timetables, trip_ids, stop_ids, arrival_times = [], [], [], [], [], []\n",
    "\n",
    "for timetable in data['Content']['TimetableFrame']:\n",
    "    for servicejourney in timetable['vehicleJourneys']['ServiceJourney']:\n",
    "        for call in servicejourney['calls']['Call']:\n",
    "\n",
    "            # Grab the line\n",
    "            line = timetable['Name'].split(':')\n",
    "            lines.append(int(line[0]))\n",
    "            \n",
    "            # Inbound or outbound\n",
    "            directions.append(line[1])\n",
    "            \n",
    "            # What time table it is\n",
    "            timetables.append(line[2])\n",
    "            \n",
    "            # What the trip id is\n",
    "            trip = servicejourney['id']\n",
    "            trip_ids.append(trip)\n",
    "            \n",
    "            # What the stop id is\n",
    "            stop = call['ScheduledStopPointRef']['ref']\n",
    "            stop_ids.append(stop)\n",
    "            \n",
    "            # Grabs the arrival time\n",
    "            arrival = call['Arrival']['Time']\n",
    "            arrival_times.append(arrival)"
   ]
  },
  {
   "cell_type": "code",
   "execution_count": 18,
   "metadata": {},
   "outputs": [
    {
     "data": {
      "text/html": [
       "<div>\n",
       "<style scoped>\n",
       "    .dataframe tbody tr th:only-of-type {\n",
       "        vertical-align: middle;\n",
       "    }\n",
       "\n",
       "    .dataframe tbody tr th {\n",
       "        vertical-align: top;\n",
       "    }\n",
       "\n",
       "    .dataframe thead th {\n",
       "        text-align: right;\n",
       "    }\n",
       "</style>\n",
       "<table border=\"1\" class=\"dataframe\">\n",
       "  <thead>\n",
       "    <tr style=\"text-align: right;\">\n",
       "      <th></th>\n",
       "      <th>ROUTE</th>\n",
       "      <th>direction</th>\n",
       "      <th>timetable</th>\n",
       "      <th>trip_id</th>\n",
       "      <th>stop_id</th>\n",
       "      <th>TIME</th>\n",
       "    </tr>\n",
       "  </thead>\n",
       "  <tbody>\n",
       "    <tr>\n",
       "      <th>0</th>\n",
       "      <td>14</td>\n",
       "      <td>IB</td>\n",
       "      <td>Saturday</td>\n",
       "      <td>8529268</td>\n",
       "      <td>15544</td>\n",
       "      <td>2019-03-21 05:09:00</td>\n",
       "    </tr>\n",
       "    <tr>\n",
       "      <th>1</th>\n",
       "      <td>14</td>\n",
       "      <td>IB</td>\n",
       "      <td>Saturday</td>\n",
       "      <td>8529268</td>\n",
       "      <td>15535</td>\n",
       "      <td>2019-03-21 05:14:00</td>\n",
       "    </tr>\n",
       "    <tr>\n",
       "      <th>2</th>\n",
       "      <td>14</td>\n",
       "      <td>IB</td>\n",
       "      <td>Saturday</td>\n",
       "      <td>8529268</td>\n",
       "      <td>16498</td>\n",
       "      <td>2019-03-21 05:21:00</td>\n",
       "    </tr>\n",
       "    <tr>\n",
       "      <th>3</th>\n",
       "      <td>14</td>\n",
       "      <td>IB</td>\n",
       "      <td>Saturday</td>\n",
       "      <td>8529267</td>\n",
       "      <td>15544</td>\n",
       "      <td>2019-03-21 05:31:00</td>\n",
       "    </tr>\n",
       "    <tr>\n",
       "      <th>4</th>\n",
       "      <td>14</td>\n",
       "      <td>IB</td>\n",
       "      <td>Saturday</td>\n",
       "      <td>8529267</td>\n",
       "      <td>15535</td>\n",
       "      <td>2019-03-21 05:37:00</td>\n",
       "    </tr>\n",
       "  </tbody>\n",
       "</table>\n",
       "</div>"
      ],
      "text/plain": [
       "   ROUTE direction timetable  trip_id stop_id                TIME\n",
       "0     14        IB  Saturday  8529268   15544 2019-03-21 05:09:00\n",
       "1     14        IB  Saturday  8529268   15535 2019-03-21 05:14:00\n",
       "2     14        IB  Saturday  8529268   16498 2019-03-21 05:21:00\n",
       "3     14        IB  Saturday  8529267   15544 2019-03-21 05:31:00\n",
       "4     14        IB  Saturday  8529267   15535 2019-03-21 05:37:00"
      ]
     },
     "execution_count": 18,
     "metadata": {},
     "output_type": "execute_result"
    }
   ],
   "source": [
    "tidy_df = pd.DataFrame({'ROUTE':pd.Series(lines),\n",
    "                       'direction':pd.Series(directions),\n",
    "                       'timetable':pd.Series(timetables),\n",
    "                       'trip_id':pd.Series(trip_ids),\n",
    "                       'stop_id':pd.Series(stop_ids),\n",
    "                       'TIME':pd.to_datetime(arrival_times)})\n",
    "\n",
    "tidy_df.head()"
   ]
  },
  {
   "cell_type": "code",
   "execution_count": 19,
   "metadata": {},
   "outputs": [],
   "source": [
    "import os\n",
    "\n",
    "filePath = os.path.join(r'../data','route_' + line_to_scrape + '_timetables_data' + '.csv')\n",
    "os.path.isfile(filePath)\n",
    "tidy_df.to_csv(filePath, index=False)"
   ]
  }
 ],
 "metadata": {
  "kernelspec": {
   "display_name": "Python 3",
   "language": "python",
   "name": "python3"
  },
  "language_info": {
   "codemirror_mode": {
    "name": "ipython",
    "version": 3
   },
   "file_extension": ".py",
   "mimetype": "text/x-python",
   "name": "python",
   "nbconvert_exporter": "python",
   "pygments_lexer": "ipython3",
   "version": "3.7.1"
  }
 },
 "nbformat": 4,
 "nbformat_minor": 2
}
